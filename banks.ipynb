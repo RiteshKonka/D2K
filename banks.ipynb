{
 "cells": [
  {
   "cell_type": "code",
   "execution_count": 1,
   "id": "451ef595",
   "metadata": {},
   "outputs": [],
   "source": [
    "import pandas as pd\n",
    "import matplotlib.pyplot as plt\n",
    "%matplotlib inline"
   ]
  },
  {
   "cell_type": "code",
   "execution_count": 2,
   "id": "26105a28",
   "metadata": {},
   "outputs": [],
   "source": [
    "df1=pd.read_csv(r\"C:\\Users\\Ritesh\\Downloads\\INDUSINDBK.csv\")\n",
    "df2=pd.read_csv(r\"C:\\Users\\Ritesh\\Downloads\\ICICIBANK.csv\")\n",
    "df3=pd.read_csv(r\"C:\\Users\\Ritesh\\Downloads\\HDFCBANK.csv\")\n",
    "df4=pd.read_csv(r\"C:\\Users\\Ritesh\\Downloads\\KOTAKBANK.csv\")"
   ]
  },
  {
   "cell_type": "code",
   "execution_count": 3,
   "id": "ef1d96a2",
   "metadata": {},
   "outputs": [
    {
     "data": {
      "text/html": [
       "<div>\n",
       "<style scoped>\n",
       "    .dataframe tbody tr th:only-of-type {\n",
       "        vertical-align: middle;\n",
       "    }\n",
       "\n",
       "    .dataframe tbody tr th {\n",
       "        vertical-align: top;\n",
       "    }\n",
       "\n",
       "    .dataframe thead th {\n",
       "        text-align: right;\n",
       "    }\n",
       "</style>\n",
       "<table border=\"1\" class=\"dataframe\">\n",
       "  <thead>\n",
       "    <tr style=\"text-align: right;\">\n",
       "      <th></th>\n",
       "      <th>Date</th>\n",
       "      <th>Symbol</th>\n",
       "      <th>Series</th>\n",
       "      <th>Prev Close</th>\n",
       "      <th>Open</th>\n",
       "      <th>High</th>\n",
       "      <th>Low</th>\n",
       "      <th>Last</th>\n",
       "      <th>Close</th>\n",
       "      <th>VWAP</th>\n",
       "      <th>Volume</th>\n",
       "      <th>Turnover</th>\n",
       "      <th>Trades</th>\n",
       "      <th>Deliverable Volume</th>\n",
       "      <th>%Deliverble</th>\n",
       "    </tr>\n",
       "  </thead>\n",
       "  <tbody>\n",
       "    <tr>\n",
       "      <th>0</th>\n",
       "      <td>2000-01-03</td>\n",
       "      <td>INDUSINDBK</td>\n",
       "      <td>EQ</td>\n",
       "      <td>26.80</td>\n",
       "      <td>28.90</td>\n",
       "      <td>28.95</td>\n",
       "      <td>28.00</td>\n",
       "      <td>28.95</td>\n",
       "      <td>28.95</td>\n",
       "      <td>28.69</td>\n",
       "      <td>107224</td>\n",
       "      <td>3.075827e+11</td>\n",
       "      <td>NaN</td>\n",
       "      <td>NaN</td>\n",
       "      <td>NaN</td>\n",
       "    </tr>\n",
       "    <tr>\n",
       "      <th>1</th>\n",
       "      <td>2000-01-04</td>\n",
       "      <td>INDUSINDBK</td>\n",
       "      <td>EQ</td>\n",
       "      <td>28.95</td>\n",
       "      <td>30.85</td>\n",
       "      <td>31.25</td>\n",
       "      <td>27.90</td>\n",
       "      <td>30.60</td>\n",
       "      <td>30.25</td>\n",
       "      <td>29.12</td>\n",
       "      <td>182693</td>\n",
       "      <td>5.320731e+11</td>\n",
       "      <td>NaN</td>\n",
       "      <td>NaN</td>\n",
       "      <td>NaN</td>\n",
       "    </tr>\n",
       "    <tr>\n",
       "      <th>2</th>\n",
       "      <td>2000-01-05</td>\n",
       "      <td>INDUSINDBK</td>\n",
       "      <td>EQ</td>\n",
       "      <td>30.25</td>\n",
       "      <td>29.90</td>\n",
       "      <td>30.00</td>\n",
       "      <td>27.85</td>\n",
       "      <td>28.45</td>\n",
       "      <td>28.15</td>\n",
       "      <td>28.72</td>\n",
       "      <td>162820</td>\n",
       "      <td>4.675717e+11</td>\n",
       "      <td>NaN</td>\n",
       "      <td>NaN</td>\n",
       "      <td>NaN</td>\n",
       "    </tr>\n",
       "    <tr>\n",
       "      <th>3</th>\n",
       "      <td>2000-01-06</td>\n",
       "      <td>INDUSINDBK</td>\n",
       "      <td>EQ</td>\n",
       "      <td>28.15</td>\n",
       "      <td>29.25</td>\n",
       "      <td>29.35</td>\n",
       "      <td>27.95</td>\n",
       "      <td>27.95</td>\n",
       "      <td>28.00</td>\n",
       "      <td>28.55</td>\n",
       "      <td>87901</td>\n",
       "      <td>2.510007e+11</td>\n",
       "      <td>NaN</td>\n",
       "      <td>NaN</td>\n",
       "      <td>NaN</td>\n",
       "    </tr>\n",
       "    <tr>\n",
       "      <th>4</th>\n",
       "      <td>2000-01-07</td>\n",
       "      <td>INDUSINDBK</td>\n",
       "      <td>EQ</td>\n",
       "      <td>28.00</td>\n",
       "      <td>27.20</td>\n",
       "      <td>28.00</td>\n",
       "      <td>26.50</td>\n",
       "      <td>27.20</td>\n",
       "      <td>27.05</td>\n",
       "      <td>27.09</td>\n",
       "      <td>65684</td>\n",
       "      <td>1.779190e+11</td>\n",
       "      <td>NaN</td>\n",
       "      <td>NaN</td>\n",
       "      <td>NaN</td>\n",
       "    </tr>\n",
       "  </tbody>\n",
       "</table>\n",
       "</div>"
      ],
      "text/plain": [
       "         Date      Symbol Series  Prev Close   Open   High    Low   Last  \\\n",
       "0  2000-01-03  INDUSINDBK     EQ       26.80  28.90  28.95  28.00  28.95   \n",
       "1  2000-01-04  INDUSINDBK     EQ       28.95  30.85  31.25  27.90  30.60   \n",
       "2  2000-01-05  INDUSINDBK     EQ       30.25  29.90  30.00  27.85  28.45   \n",
       "3  2000-01-06  INDUSINDBK     EQ       28.15  29.25  29.35  27.95  27.95   \n",
       "4  2000-01-07  INDUSINDBK     EQ       28.00  27.20  28.00  26.50  27.20   \n",
       "\n",
       "   Close   VWAP  Volume      Turnover  Trades  Deliverable Volume  %Deliverble  \n",
       "0  28.95  28.69  107224  3.075827e+11     NaN                 NaN          NaN  \n",
       "1  30.25  29.12  182693  5.320731e+11     NaN                 NaN          NaN  \n",
       "2  28.15  28.72  162820  4.675717e+11     NaN                 NaN          NaN  \n",
       "3  28.00  28.55   87901  2.510007e+11     NaN                 NaN          NaN  \n",
       "4  27.05  27.09   65684  1.779190e+11     NaN                 NaN          NaN  "
      ]
     },
     "execution_count": 3,
     "metadata": {},
     "output_type": "execute_result"
    }
   ],
   "source": [
    "df1.head()"
   ]
  },
  {
   "cell_type": "code",
   "execution_count": 4,
   "id": "c8fe17aa",
   "metadata": {},
   "outputs": [
    {
     "data": {
      "text/plain": [
       "0       2000\n",
       "1       2000\n",
       "2       2000\n",
       "3       2000\n",
       "4       2000\n",
       "        ... \n",
       "4980    2021\n",
       "4981    2021\n",
       "4982    2021\n",
       "4983    2021\n",
       "4984    2021\n",
       "Name: Year, Length: 4985, dtype: object"
      ]
     },
     "execution_count": 4,
     "metadata": {},
     "output_type": "execute_result"
    }
   ],
   "source": [
    "df1['Year'] = df1['Date'].str.split(\"-\").str[0]\n",
    "df1['Year']"
   ]
  },
  {
   "cell_type": "code",
   "execution_count": 7,
   "id": "1aea5f62",
   "metadata": {},
   "outputs": [
    {
     "data": {
      "text/plain": [
       "<BarContainer object of 2427 artists>"
      ]
     },
     "execution_count": 7,
     "metadata": {},
     "output_type": "execute_result"
    },
    {
     "data": {
      "image/png": "[encoded data removed]",
      "text/plain": [
       "<Figure size 864x504 with 1 Axes>"
      ]
     },
     "metadata": {
      "needs_background": "light"
     },
     "output_type": "display_data"
    }
   ],
   "source": [
    "df1 = df1[0:2427]\n",
    "plt.figure(figsize = (12,7))\n",
    "plt.bar(df1['Year'],df1['Turnover'])"
   ]
  },
  {
   "cell_type": "code",
   "execution_count": 8,
   "id": "da2fc0ac",
   "metadata": {},
   "outputs": [
    {
     "data": {
      "text/plain": [
       "<BarContainer object of 2427 artists>"
      ]
     },
     "execution_count": 8,
     "metadata": {},
     "output_type": "execute_result"
    },
    {
     "data": {
      "image/png": "[encoded data removed]",
      "text/plain": [
       "<Figure size 864x504 with 1 Axes>"
      ]
     },
     "metadata": {
      "needs_background": "light"
     },
     "output_type": "display_data"
    }
   ],
   "source": [
    "plt.figure(figsize = (12,7))\n",
    "plt.bar(df1['Year'],df1['Close'])"
   ]
  },
  {
   "cell_type": "markdown",
   "id": "12b948f1",
   "metadata": {},
   "source": [
    "   INDUSIND Bank Turnover and Close from 2000 to 2011"
   ]
  },
  {
   "cell_type": "code",
   "execution_count": 13,
   "id": "afced0c2",
   "metadata": {},
   "outputs": [
    {
     "name": "stderr",
     "output_type": "stream",
     "text": [
      "C:\\Users\\Ritesh\\AppData\\Local\\Temp\\ipykernel_16380\\2753098840.py:1: SettingWithCopyWarning: \n",
      "A value is trying to be set on a copy of a slice from a DataFrame.\n",
      "Try using .loc[row_indexer,col_indexer] = value instead\n",
      "\n",
      "See the caveats in the documentation: https://pandas.pydata.org/pandas-docs/stable/user_guide/indexing.html#returning-a-view-versus-a-copy\n",
      "  df2['Year'] = df2['Date'].str.split(\"-\").str[0]\n"
     ]
    },
    {
     "data": {
      "text/plain": [
       "<BarContainer object of 2748 artists>"
      ]
     },
     "execution_count": 13,
     "metadata": {},
     "output_type": "execute_result"
    },
    {
     "data": {
      "image/png": "[encoded data removed]",
      "text/plain": [
       "<Figure size 864x504 with 1 Axes>"
      ]
     },
     "metadata": {
      "needs_background": "light"
     },
     "output_type": "display_data"
    }
   ],
   "source": [
    "df2['Year'] = df2['Date'].str.split(\"-\").str[0]\n",
    "df2 = df2[:2748]\n",
    "plt.figure(figsize = (12,7))\n",
    "plt.bar(df2['Year'],df2['Turnover'])"
   ]
  },
  {
   "cell_type": "code",
   "execution_count": 14,
   "id": "06b5d3a6",
   "metadata": {},
   "outputs": [
    {
     "data": {
      "text/plain": [
       "<BarContainer object of 2748 artists>"
      ]
     },
     "execution_count": 14,
     "metadata": {},
     "output_type": "execute_result"
    },
    {
     "data": {
      "image/png": "[encoded data removed]",
      "text/plain": [
       "<Figure size 864x504 with 1 Axes>"
      ]
     },
     "metadata": {
      "needs_background": "light"
     },
     "output_type": "display_data"
    }
   ],
   "source": [
    "plt.figure(figsize = (12,7))\n",
    "plt.bar(df2['Year'],df2['Close'])"
   ]
  },
  {
   "cell_type": "markdown",
   "id": "931ed999",
   "metadata": {},
   "source": [
    "ICICI Bank Turnover and Close from 2000 to 2011"
   ]
  },
  {
   "cell_type": "code",
   "execution_count": 25,
   "id": "08233049",
   "metadata": {},
   "outputs": [
    {
     "data": {
      "text/plain": [
       "<BarContainer object of 2427 artists>"
      ]
     },
     "execution_count": 25,
     "metadata": {},
     "output_type": "execute_result"
    },
    {
     "data": {
      "image/png": "[encoded data removed]",
      "text/plain": [
       "<Figure size 864x504 with 1 Axes>"
      ]
     },
     "metadata": {
      "needs_background": "light"
     },
     "output_type": "display_data"
    }
   ],
   "source": [
    "df3['Year'] = df3['Date'].str.split(\"-\").str[0]\n",
    "df3 = df3[:2428]\n",
    "plt.figure(figsize = (12,7))\n",
    "plt.bar(df3['Year'],df3['Turnover'])"
   ]
  },
  {
   "cell_type": "code",
   "execution_count": 23,
   "id": "f7c04014",
   "metadata": {},
   "outputs": [
    {
     "data": {
      "text/plain": [
       "<BarContainer object of 2427 artists>"
      ]
     },
     "execution_count": 23,
     "metadata": {},
     "output_type": "execute_result"
    },
    {
     "data": {
      "image/png": "[encoded data removed]",
      "text/plain": [
       "<Figure size 864x504 with 1 Axes>"
      ]
     },
     "metadata": {
      "needs_background": "light"
     },
     "output_type": "display_data"
    }
   ],
   "source": [
    "plt.figure(figsize = (12,7))\n",
    "plt.bar(df3['Year'],df3['Close'])"
   ]
  },
  {
   "cell_type": "markdown",
   "id": "6e5f8420",
   "metadata": {},
   "source": [
    "ICICI Bank Turnover and Close from 2000 to 2009"
   ]
  },
  {
   "cell_type": "code",
   "execution_count": 31,
   "id": "8446b065",
   "metadata": {},
   "outputs": [
    {
     "data": {
      "text/plain": [
       "<BarContainer object of 2427 artists>"
      ]
     },
     "execution_count": 31,
     "metadata": {},
     "output_type": "execute_result"
    },
    {
     "data": {
      "image/png": "[encoded data removed]",
      "text/plain": [
       "<Figure size 864x504 with 1 Axes>"
      ]
     },
     "metadata": {
      "needs_background": "light"
     },
     "output_type": "display_data"
    }
   ],
   "source": [
    "df4['Year'] = df4['Date'].str.split(\"-\").str[0]\n",
    "df4 = df4[:2427]\n",
    "plt.figure(figsize = (12,7))\n",
    "plt.bar(df4['Year'],df4['Turnover'])"
   ]
  },
  {
   "cell_type": "code",
   "execution_count": 32,
   "id": "caba102c",
   "metadata": {},
   "outputs": [
    {
     "data": {
      "text/plain": [
       "<BarContainer object of 2427 artists>"
      ]
     },
     "execution_count": 32,
     "metadata": {},
     "output_type": "execute_result"
    },
    {
     "data": {
      "image/png": "[encoded data removed]",
      "text/plain": [
       "<Figure size 864x504 with 1 Axes>"
      ]
     },
     "metadata": {
      "needs_background": "light"
     },
     "output_type": "display_data"
    }
   ],
   "source": [
    "plt.figure(figsize = (12,7))\n",
    "plt.bar(df4['Year'],df4['Close'])"
   ]
  },
  {
   "cell_type": "markdown",
   "id": "46ed50f8",
   "metadata": {},
   "source": [
    "ICICI Bank Turnover and Close from 2000 to 2009"
   ]
  },
  {
   "cell_type": "code",
   "execution_count": null,
   "id": "34277bf4",
   "metadata": {},
   "outputs": [],
   "source": []
  }
 ],
 "metadata": {
  "kernelspec": {
   "display_name": "Python 3 (ipykernel)",
   "language": "python",
   "name": "python3"
  },
  "language_info": {
   "codemirror_mode": {
    "name": "ipython",
    "version": 3
   },
   "file_extension": ".py",
   "mimetype": "text/x-python",
   "name": "python",
   "nbconvert_exporter": "python",
   "pygments_lexer": "ipython3",
   "version": "3.9.12"
  }
 },
 "nbformat": 4,
 "nbformat_minor": 5
}
